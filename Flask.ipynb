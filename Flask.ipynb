{
 "cells": [
  {
   "cell_type": "markdown",
   "id": "3b33e4ee",
   "metadata": {},
   "source": [
    "# Flask Web FrameWork"
   ]
  },
  {
   "cell_type": "code",
   "execution_count": null,
   "id": "1aded19c",
   "metadata": {},
   "outputs": [],
   "source": [
    "Model(Local System)   >> Model Deployment(server) "
   ]
  },
  {
   "cell_type": "code",
   "execution_count": null,
   "id": "d43e3a65",
   "metadata": {},
   "outputs": [],
   "source": [
    "Data(User Input) >> Model Deployment(server)  >> Prediction(Output)"
   ]
  },
  {
   "cell_type": "code",
   "execution_count": null,
   "id": "cfcb5203",
   "metadata": {},
   "outputs": [],
   "source": [
    "API >> Application Programming Interface"
   ]
  },
  {
   "cell_type": "code",
   "execution_count": null,
   "id": "8656cbb4",
   "metadata": {},
   "outputs": [],
   "source": [
    "from flask import Flask"
   ]
  },
  {
   "cell_type": "code",
   "execution_count": null,
   "id": "e258f062",
   "metadata": {},
   "outputs": [],
   "source": [
    "app = Flask(__name__) # "
   ]
  },
  {
   "cell_type": "markdown",
   "id": "66bde891",
   "metadata": {},
   "source": [
    "## route()"
   ]
  },
  {
   "cell_type": "code",
   "execution_count": null,
   "id": "8aae9310",
   "metadata": {},
   "outputs": [],
   "source": [
    "app.route(rule, options)\n",
    "\n",
    ">>rule : url"
   ]
  },
  {
   "cell_type": "code",
   "execution_count": null,
   "id": "69615c33",
   "metadata": {},
   "outputs": [],
   "source": [
    "app.route(rule, options)\n",
    "def hello_world():\n",
    "    return \"Hello\""
   ]
  },
  {
   "cell_type": "markdown",
   "id": "d59bac8e",
   "metadata": {},
   "source": [
    "## run()"
   ]
  },
  {
   "cell_type": "code",
   "execution_count": null,
   "id": "0406e81f",
   "metadata": {},
   "outputs": [],
   "source": [
    "app.run(host, port, debug, options)"
   ]
  },
  {
   "cell_type": "code",
   "execution_count": null,
   "id": "5c3e8c96",
   "metadata": {},
   "outputs": [],
   "source": [
    ">> host : i) The host on which your application will listen for the \n",
    "          ii)The default is local host  \"127.0.0.1\" is IP addressof the local host\n",
    "          iii)Deployment >> External IP address , host = \"0.0.0.0\"\n",
    "            \n",
    ">> port : i) default port = 5000 , \n",
    "        ii)Deployment >> port = 5012\n",
    "        \n",
    ">> debug : i) default = False"
   ]
  },
  {
   "cell_type": "code",
   "execution_count": null,
   "id": "66342f4d",
   "metadata": {},
   "outputs": [],
   "source": [
    "if \"__name__\" == \"__main__\":\n",
    "    app.run()"
   ]
  },
  {
   "cell_type": "code",
   "execution_count": null,
   "id": "77c85c93",
   "metadata": {},
   "outputs": [],
   "source": [
    ">> To start terminal\n",
    "\n",
    "Ctrl + Shift + `"
   ]
  },
  {
   "cell_type": "markdown",
   "id": "db1863ec",
   "metadata": {},
   "source": [
    "## HTTP Methods"
   ]
  },
  {
   "cell_type": "code",
   "execution_count": null,
   "id": "c9a3d270",
   "metadata": {},
   "outputs": [],
   "source": [
    "1. GET\n",
    ">> Default method\n",
    ">> It sends the data in unencryted\n",
    ">> Here the server remembers the data received by it i.e data is cached by the server"
   ]
  },
  {
   "cell_type": "code",
   "execution_count": null,
   "id": "be520164",
   "metadata": {},
   "outputs": [],
   "source": [
    "2. POST\n",
    "-Used to send the HTML data to the server\n",
    "-Data that the server receives by POST method is not cached by the server \n",
    "i.e data is not retained"
   ]
  },
  {
   "cell_type": "markdown",
   "id": "a47db5ea",
   "metadata": {},
   "source": [
    "# Request"
   ]
  },
  {
   "cell_type": "code",
   "execution_count": null,
   "id": "b61d4ebf",
   "metadata": {},
   "outputs": [],
   "source": [
    ">> get_json : To take request in json format"
   ]
  },
  {
   "cell_type": "code",
   "execution_count": 2,
   "id": "489a7e3f",
   "metadata": {},
   "outputs": [],
   "source": [
    "from flask import Flask"
   ]
  },
  {
   "cell_type": "code",
   "execution_count": null,
   "id": "d5a5857f",
   "metadata": {},
   "outputs": [],
   "source": []
  },
  {
   "cell_type": "code",
   "execution_count": null,
   "id": "38c6e4aa",
   "metadata": {},
   "outputs": [],
   "source": []
  },
  {
   "cell_type": "code",
   "execution_count": null,
   "id": "b0fd849c",
   "metadata": {},
   "outputs": [],
   "source": []
  },
  {
   "cell_type": "code",
   "execution_count": null,
   "id": "a3c2e7d5",
   "metadata": {},
   "outputs": [],
   "source": []
  }
 ],
 "metadata": {
  "kernelspec": {
   "display_name": "Python 3 (ipykernel)",
   "language": "python",
   "name": "python3"
  },
  "language_info": {
   "codemirror_mode": {
    "name": "ipython",
    "version": 3
   },
   "file_extension": ".py",
   "mimetype": "text/x-python",
   "name": "python",
   "nbconvert_exporter": "python",
   "pygments_lexer": "ipython3",
   "version": "3.9.7"
  }
 },
 "nbformat": 4,
 "nbformat_minor": 5
}
